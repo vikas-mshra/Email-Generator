{
 "cells": [
  {
   "cell_type": "code",
   "execution_count": 6,
   "id": "10bc5151-f0b1-48cf-976f-6eb974501676",
   "metadata": {},
   "outputs": [
    {
     "name": "stdout",
     "output_type": "stream",
     "text": [
      "content='The first person to publish a paper on Artificial Intelligence (AI) is often credited to be Alan Turing, a British mathematician, computer scientist, and logician. His paper, titled \"On Computable Numbers, with an Application to the Entscheidungsproblem,\" was published in 1936 in the Proceedings of the London Mathematical Society.\\n\\nHowever, the paper that is often considered the foundation of AI research is Turing\\'s 1950 paper, \"Computing Machinery and Intelligence,\" which was published in the journal Mind. In this paper, Turing proposed the Turing Test, a measure of a machine\\'s ability to exhibit intelligent behavior equivalent to, or indistinguishable from, that of a human.\\n\\nTuring\\'s work laid the foundation for the development of AI as a field of research, and his ideas continue to influence AI research to this day.\\n\\nOther notable early researchers in AI include:\\n\\n* Marvin Minsky, who published the book \"Perceptrons\" in 1969, which introduced the concept of multi-layer neural networks.\\n* John McCarthy, who coined the term \"Artificial Intelligence\" in 1956 and organized the 1956 Dartmouth Summer Research Project on Artificial Intelligence, which is considered the birthplace of AI as a field of research.\\n* Claude Shannon, who published a paper on \"Programming a Computer for Playing Chess\" in 1950, which is considered one of the first papers on AI.\\n\\nHowever, Alan Turing is often credited with publishing the first paper on AI, and his work continues to be widely influential in the field.' additional_kwargs={} response_metadata={'token_usage': {'completion_tokens': 314, 'prompt_tokens': 45, 'total_tokens': 359, 'completion_time': 1.256, 'prompt_time': 0.011083858, 'queue_time': 0.004828788999999998, 'total_time': 1.267083858}, 'model_name': 'llama-3.1-70b-versatile', 'system_fingerprint': 'fp_b6828be2c9', 'finish_reason': 'stop', 'logprobs': None} id='run-467afa14-4a1d-47a6-9bca-0673f9a736fb-0' usage_metadata={'input_tokens': 45, 'output_tokens': 314, 'total_tokens': 359}\n"
     ]
    }
   ],
   "source": [
    "from langchain_groq import ChatGroq\n",
    "\n",
    "llm = ChatGroq(\n",
    "    model=\"llama-3.1-70b-versatile\",\n",
    "    temperature=0,\n",
    "    groq_api_key='REPLACE WITH YOUR API KEY'\n",
    ")\n",
    "response = llm.invoke(\"the first person to to published a paper on AI\")\n",
    "print(response)"
   ]
  },
  {
   "cell_type": "code",
   "execution_count": null,
   "id": "e7bb2d03-6044-4d00-a479-b51465ea619c",
   "metadata": {},
   "outputs": [],
   "source": []
  }
 ],
 "metadata": {
  "kernelspec": {
   "display_name": "GenAIProject",
   "language": "python",
   "name": "genaiproject"
  },
  "language_info": {
   "codemirror_mode": {
    "name": "ipython",
    "version": 3
   },
   "file_extension": ".py",
   "mimetype": "text/x-python",
   "name": "python",
   "nbconvert_exporter": "python",
   "pygments_lexer": "ipython3",
   "version": "3.12.5"
  }
 },
 "nbformat": 4,
 "nbformat_minor": 5
}
